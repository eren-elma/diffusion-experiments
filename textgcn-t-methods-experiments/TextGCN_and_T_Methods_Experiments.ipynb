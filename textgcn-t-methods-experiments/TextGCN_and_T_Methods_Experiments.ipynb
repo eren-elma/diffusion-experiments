{
  "nbformat": 4,
  "nbformat_minor": 0,
  "metadata": {
    "colab": {
      "provenance": []
    },
    "kernelspec": {
      "name": "python3",
      "display_name": "Python 3"
    },
    "language_info": {
      "name": "python"
    }
  },
  "cells": [
    {
      "cell_type": "markdown",
      "source": [
        "# **Text GCN and T-Methods Experiments**"
      ],
      "metadata": {
        "id": "20lQC4pw7qcn"
      }
    },
    {
      "cell_type": "code",
      "execution_count": null,
      "metadata": {
        "id": "W-Z1fZON7h9s"
      },
      "outputs": [],
      "source": [
        "from google.colab import drive\n",
        "drive.mount('/content/drive')"
      ]
    },
    {
      "cell_type": "code",
      "source": [
        "%cd /content/drive/MyDrive/diffusion-experiments/textgcn-t-methods-experiments/"
      ],
      "metadata": {
        "id": "nHRAuSm97z9G"
      },
      "execution_count": null,
      "outputs": []
    },
    {
      "cell_type": "code",
      "source": [
        "%run textgcn-t-methods-experiments.py configs/config-interest-t-diff-norm-reg.ini"
      ],
      "metadata": {
        "id": "jPG-nlcw72J8"
      },
      "execution_count": null,
      "outputs": []
    }
  ]
}